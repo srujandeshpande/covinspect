{
 "cells": [
  {
   "cell_type": "code",
   "execution_count": null,
   "metadata": {},
   "outputs": [],
   "source": [
    "import time\n",
    "import random\n",
    "import numpy as np\n",
    "from selenium import webdriver\n",
    "from selenium.webdriver.common.by import By\n",
    "from selenium.webdriver.support.ui import WebDriverWait\n",
    "from selenium.webdriver.support import expected_conditions as EC\n",
    "from selenium.common.exceptions import TimeoutException\n",
    "from selenium.webdriver.common.action_chains import ActionChains\n",
    "import pandas as pd\n",
    "\n",
    "\n",
    "option = webdriver.ChromeOptions()\n",
    "option.add_argument(\"-incognito\")\n",
    "#option.add_experimental_option(\"excludeSwitches\", ['enable-automation']);\n",
    "#option.add_argument(\"--headless\")\n",
    "#option.add_argument(\"disable-gpu\");\n",
    "browser = webdriver.Chrome(executable_path=r'/home/srujandeshpande/chromedriver', options=option)\n",
    "\n",
    "\n",
    "browser.get(\"https://www.cowin.gov.in/home\")"
   ]
  },
  {
   "cell_type": "code",
   "execution_count": null,
   "metadata": {},
   "outputs": [],
   "source": [
    "district_button  = browser.find_element_by_xpath('//*[@id=\"mat-tab-label-0-2\"]')\n",
    "district_button.click()"
   ]
  },
  {
   "cell_type": "code",
   "execution_count": null,
   "metadata": {},
   "outputs": [],
   "source": [
    "state = browser.find_element_by_xpath('//*[@id=\"mat-tab-content-0-2\"]/div/div/div[1]/mat-form-field/div/div[1]/div')\n",
    "state.click()"
   ]
  },
  {
   "cell_type": "code",
   "execution_count": null,
   "metadata": {},
   "outputs": [],
   "source": [
    "karnataka = browser.find_element_by_xpath('//*[@id=\"mat-option-16\"]/span')\n",
    "karnataka.click()"
   ]
  },
  {
   "cell_type": "code",
   "execution_count": null,
   "metadata": {},
   "outputs": [],
   "source": [
    "district = browser.find_element_by_xpath('//*[@id=\"mat-tab-content-0-2\"]/div/div/div[2]/mat-form-field/div/div[1]/div')\n",
    "district.click()"
   ]
  },
  {
   "cell_type": "code",
   "execution_count": null,
   "metadata": {},
   "outputs": [],
   "source": [
    "bbmp = browser.find_element_by_xpath('//*[@id=\"mat-option-40\"]/span')\n",
    "bbmp.click()"
   ]
  },
  {
   "cell_type": "code",
   "execution_count": null,
   "metadata": {},
   "outputs": [],
   "source": [
    "search_button = browser.find_element_by_xpath('//*[@id=\"mat-tab-content-0-2\"]/div/div/div[3]/button')\n",
    "search_button.click()"
   ]
  },
  {
   "cell_type": "code",
   "execution_count": null,
   "metadata": {},
   "outputs": [],
   "source": [
    "eighteen = browser.find_element_by_xpath('/html/body/app-root/div/app-home/div[2]/div/appointment-table/div/div/div/div/div/div/div/div/div/div/div[2]/form/div/div/div[1]/div/div[1]/label')\n",
    "eighteen.click()"
   ]
  },
  {
   "cell_type": "code",
   "execution_count": null,
   "metadata": {},
   "outputs": [],
   "source": [
    "arr = []"
   ]
  },
  {
   "cell_type": "code",
   "execution_count": null,
   "metadata": {},
   "outputs": [],
   "source": [
    "notav = browser.find_elements_by_class_name('no-available')\n",
    "n2av = browser.find_elements_by_class_name('no-seat')\n",
    "av = browser.find_elements_by_class_name('slots-box')\n",
    "\n",
    "for i in av:\n",
    "    if i in notav:\n",
    "        continue\n",
    "    elif i in n2av:\n",
    "        continue\n",
    "    else:\n",
    "        hospital = i.find_element_by_xpath(\"../../../../div[1]\")\n",
    "        v = i.text.split()\n",
    "        if(len(v)==0):\n",
    "            continue\n",
    "        # print(v)\n",
    "        if int(v[1])>0: \n",
    "            v.append(hospital.text)\n",
    "            arr.append(v)"
   ]
  },
  {
   "cell_type": "code",
   "execution_count": null,
   "metadata": {},
   "outputs": [],
   "source": [
    "arr"
   ]
  }
 ],
 "metadata": {
  "kernelspec": {
   "name": "python383jvsc74a57bd0f8f0ae1fc04c14f69551a0e70c85d5d03614e8e380ec13945902ed99f9df06c7",
   "display_name": "Python 3.8.3 64-bit ('base': conda)"
  },
  "language_info": {
   "codemirror_mode": {
    "name": "ipython",
    "version": 3
   },
   "file_extension": ".py",
   "mimetype": "text/x-python",
   "name": "python",
   "nbconvert_exporter": "python",
   "pygments_lexer": "ipython3",
   "version": "3.8.3"
  },
  "metadata": {
   "interpreter": {
    "hash": "f8f0ae1fc04c14f69551a0e70c85d5d03614e8e380ec13945902ed99f9df06c7"
   }
  }
 },
 "nbformat": 4,
 "nbformat_minor": 4
}